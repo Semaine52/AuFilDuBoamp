{
 "cells": [
  {
   "cell_type": "markdown",
   "metadata": {},
   "source": [
    "## Au Fil du Boamp - Les Quotidiennes J-1\n",
    "#### *Une balade le long de l'Open Data du Bulletin officiel des annonces des marchés publics (BOAMP)*\n",
    "##### Édité par J.-M.F. pour Semaine52.com\n",
    "# **Au Sommaire**\n"
   ]
  },
  {
   "cell_type": "markdown",
   "metadata": {},
   "source": [
    "____\n",
    "\n",
    "## **Les Notebooks Jupyter (html)**\n",
    "\n",
    "____\n",
    "\n",
    "##### **- Notebook N°13 - [Édition du dimanche 08/09/2019 sur les annonces du samedi 07/09/2019](https://www.semaine52.com/AuFilDuBoamp/AuFilDuBoampQuotidienneDu_19090_13.html)**\n",
    "##### **- Notebook N°12 - [Édition du samedi 07/09/2019 sur les annonces du vendredi 06/09/2019](https://www.semaine52.com/AuFilDuBoamp/AuFilDuBoampQuotidienneDu_190907_12.html)**\n",
    "##### **- Notebook N°11 - [Édition du vendredi 06/09/2019 sur les annonces du jeudi 05/09/2019](https://www.semaine52.com/AuFilDuBoamp/AuFilDuBoampQuotidienneDu_190906_11.html)**\n",
    "##### **- Notebook N°10 - [Édition du jeudi 05/09/2019 sur les annonces du mercredi 04/09/2019](https://www.semaine52.com/AuFilDuBoamp/AuFilDuBoampQuotidienneDu_190905_10.html)**\n",
    "##### **- Notebook N°09 - [Édition du mercredi 04/09/2019 sur les annonces du mardi 03/09/2019](https://www.semaine52.com/AuFilDuBoamp/AuFilDuBoampQuotidienneDu_190904_09.html)**\n",
    "##### **- Notebook N°08 - [Édition du mardi 03/09/2019 sur les annonces du lundi 02/09/2019](https://www.semaine52.com/AuFilDuBoamp/AuFilDuBoampQuotidienneDu_190903_08.html)**\n",
    "##### **- Notebook N°07 - [Édition du lundi 02/09/2019 sur les annonces du dimanche 01/09/2019](https://www.semaine52.com/AuFilDuBoamp/AuFilDuBoampQuotidienneDu_190902_07.html)**\n",
    "##### **- Notebook N°06 - [Édition du dimanche 01/09/2019 sur les annonces du samedi 31/08/2019](https://www.semaine52.com/AuFilDuBoamp/AuFilDuBoampQuotidienneDu_190901_06.html)**\n",
    "##### **- Notebook N°05 - [Édition du samedi 31/08/2019 sur les annonces du vendredi 30/08/2019](https://www.semaine52.com/AuFilDuBoamp/AuFilDuBoampQuotidienneDu_190831_05.html)**\n",
    "##### **- Notebook N°04 - [Édition du vendredi 30/08/2019 sur les annonces du jeudi 29/08/2019](https://www.semaine52.com/AuFilDuBoamp/AuFilDuBoampQuotidienneDu_190830_04.html)**\n",
    "##### **- Notebook N°03 - [Édition du jeudi 29/08/2019 sur les annonces du mercredi 28/08/2019](https://www.semaine52.com/AuFilDuBoamp/AuFilDuBoampQuotidienneDu_190829_03.html)**\n",
    "##### **- Notebook N°02 - [Édition du mercredi 28/08/2019 sur les annonces du mardi 27/08/2019](https://www.semaine52.com/AuFilDuBoamp/AuFilDuBoampQuotidienneDu_190828_02.html)**\n",
    "##### **- Notebook N°01 - [Édition du mardi 27/08//2019 sur les annonces du lundi 26/08/2019](https://www.semaine52.com/AuFilDuBoamp/AuFilDuBoampQuotidienneDu_190827_01.html)**\n",
    " \n"
   ]
  },
  {
   "cell_type": "markdown",
   "metadata": {},
   "source": [
    "____\n",
    "## **Les Cartes seules (html)**\n",
    "____\n",
    "\n",
    "##### **- Carte N°13 - [Annonces parues le samedi 07/09/2019](https://www.semaine52.com/AuFilDuBoamp/AuFilDuBoampCarteParutionsDu_190907_13.html)**\n",
    "##### **- Carte N°12 - [Annonces parues le vendredi 06/09/2019](https://www.semaine52.com/AuFilDuBoamp/AuFilDuBoampCarteParutionsDu_190906_12.html)**\n",
    "##### **- Carte N°11 - [Annonces parues le jeudi 05/09/2019](https://www.semaine52.com/AuFilDuBoamp/AuFilDuBoampCarteParutionsDu_190905_11.html)**\n",
    "##### **- Carte N°10 - [Annonces parues le mercredi 04/09/2019](https://www.semaine52.com/AuFilDuBoamp/AuFilDuBoampCarteParutionsDu_190904_10.html)**\n",
    "##### **- Carte N°09 - [Annonces parues le mardi 03/09/2019](https://www.semaine52.com/AuFilDuBoamp/AuFilDuBoampCarteParutionsDu_190903_09.html)**\n",
    "##### **- Carte N°08 - [Annonces parues le lundi 02/09/2019](https://www.semaine52.com/AuFilDuBoamp/AuFilDuBoampCarteParutionsDu_190902_08.html)**\n",
    "##### **- Carte N°07 - [Annonces parues le dimanche 01/09/2019](https://www.semaine52.com/AuFilDuBoamp/AuFilDuBoampCarteParutionsDu_190901_07.html)**\n",
    "##### **- Carte N°06 - [Annonces parues le samedi 31/08/2019](https://www.semaine52.com/AuFilDuBoamp/AuFilDuBoampCarteParutionsDu_190831_06.html)**\n",
    "##### **- Carte N°05 - [Annonces parues le vendredi 30/08/2019](https://www.semaine52.com/AuFilDuBoamp/AuFilDuBoampCarteParutionsDu_190830_05.html)**\n",
    "##### **- Carte N°04 - [Annonces parues le jeudi 29/08/2019](https://www.semaine52.com/AuFilDuBoamp/AuFilDuBoampCarteParutionsDu_190829_04.html)**\n",
    "##### **- Carte N°03 - [Annonces parues le mercredi 28/08/2019](https://www.semaine52.com/AuFilDuBoamp/AuFilDuBoampCarteParutionsDu_190828_03.html)**\n",
    "##### **- Carte N°02 - [Annonces parues le mardi 27/08/2019](https://www.semaine52.com/AuFilDuBoamp/AuFilDuBoampCarteParutionsDu_190827_02.html)**\n",
    "##### **- Carte N°01 - [Annonces parues le lundi 26/08/2019](https://www.semaine52.com/AuFilDuBoamp/AuFilDuBoampCarteParutionsDu_190826_01.html)**\n",
    "\n",
    "____"
   ]
  },
  {
   "cell_type": "code",
   "execution_count": null,
   "metadata": {},
   "outputs": [],
   "source": []
  }
 ],
 "metadata": {
  "kernelspec": {
   "display_name": "Python 3",
   "language": "python",
   "name": "python3"
  },
  "language_info": {
   "codemirror_mode": {
    "name": "ipython",
    "version": 3
   },
   "file_extension": ".py",
   "mimetype": "text/x-python",
   "name": "python",
   "nbconvert_exporter": "python",
   "pygments_lexer": "ipython3",
   "version": "3.7.3"
  }
 },
 "nbformat": 4,
 "nbformat_minor": 4
}
