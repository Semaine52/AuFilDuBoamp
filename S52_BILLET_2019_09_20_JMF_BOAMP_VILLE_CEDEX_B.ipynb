{
 "cells": [
  {
   "cell_type": "markdown",
   "metadata": {},
   "source": [
    "![Les billets de Semaine52 / AuFilDuBoamp / DataMining des données de marchés publics au Bulletin officiel](https://raw.githubusercontent.com/Semaine52/AuFilDuBoamp/master/IMG/BILLETS_S52_AUFD_BANDEAU.jpg \"Logo\")"
   ]
  },
  {
   "cell_type": "markdown",
   "metadata": {},
   "source": [
    "##### **Data Mining des données de la commande publique parues au Bulletin officiel des annonces des marchés publics (BOAMP 2015-2019)**\n",
    "**Source open data : https://www.data.gouv.fr/fr/datasets/api-boamp-beta/**\n",
    "# **Aujourd'hui : la Ville Fantôme de Cedex et autres Joyeusetés**\n",
    "### *ou «Les ravages de l'absence de référentiel. [...]» (cit. @JoelGombin, Twitter, 19/09/2019)*"
   ]
  },
  {
   "cell_type": "markdown",
   "metadata": {},
   "source": [
    "____"
   ]
  },
  {
   "cell_type": "markdown",
   "metadata": {},
   "source": [
    "# **A - Constatations**"
   ]
  },
  {
   "cell_type": "markdown",
   "metadata": {},
   "source": [
    "<strong>Vous vous êtes toujours demandé ce qui s'est passé à Toulouse en 2018 niveau marchés publics (si,si, jouez le jeu).</strong> \n",
    "\n",
    "<strong>Ainsi, vous récupérez toute la colonne «ville» extraite des annonces de l'année</strong>.\n",
    "En fait, je vous l'offre...\n",
    "    \n",
    "<strong>Vous obtenez le résultat sous le pâté de code suivant:</strong>."
   ]
  },
  {
   "cell_type": "code",
   "execution_count": 9,
   "metadata": {},
   "outputs": [
    {
     "data": {
      "text/plain": [
       "('df_d01_08_ville_2018_no_index.pkl', <http.client.HTTPMessage at 0x57d5400>)"
      ]
     },
     "execution_count": 9,
     "metadata": {},
     "output_type": "execute_result"
    },
    {
     "name": "stdout",
     "output_type": "stream",
     "text": [
      "****************************************************************************************************\n",
      "Nombre d'annonce au BOAMP en 2018: 155935 \n",
      "Ci-dessous, les cinq premières lignes du tableau de résultats:\n"
     ]
    },
    {
     "data": {
      "text/html": [
       "<div>\n",
       "<style scoped>\n",
       "    .dataframe tbody tr th:only-of-type {\n",
       "        vertical-align: middle;\n",
       "    }\n",
       "\n",
       "    .dataframe tbody tr th {\n",
       "        vertical-align: top;\n",
       "    }\n",
       "\n",
       "    .dataframe thead th {\n",
       "        text-align: right;\n",
       "    }\n",
       "</style>\n",
       "<table border=\"1\" class=\"dataframe\">\n",
       "  <thead>\n",
       "    <tr style=\"text-align: right;\">\n",
       "      <th></th>\n",
       "      <th>d01_08_ville</th>\n",
       "    </tr>\n",
       "  </thead>\n",
       "  <tbody>\n",
       "    <tr>\n",
       "      <td>0</td>\n",
       "      <td>Magny-les-Hameaux</td>\n",
       "    </tr>\n",
       "    <tr>\n",
       "      <td>1</td>\n",
       "      <td>Conflans Ste-Honorine</td>\n",
       "    </tr>\n",
       "    <tr>\n",
       "      <td>2</td>\n",
       "      <td>ANNECY</td>\n",
       "    </tr>\n",
       "    <tr>\n",
       "      <td>3</td>\n",
       "      <td>Toulouse cedex 1</td>\n",
       "    </tr>\n",
       "    <tr>\n",
       "      <td>4</td>\n",
       "      <td>Caudry</td>\n",
       "    </tr>\n",
       "  </tbody>\n",
       "</table>\n",
       "</div>"
      ],
      "text/plain": [
       "            d01_08_ville\n",
       "0  Magny-les-Hameaux    \n",
       "1  Conflans Ste-Honorine\n",
       "2  ANNECY               \n",
       "3  Toulouse cedex 1     \n",
       "4  Caudry               "
      ]
     },
     "execution_count": 9,
     "metadata": {},
     "output_type": "execute_result"
    }
   ],
   "source": [
    "# IMPORTS DES OUTILS\n",
    "from urllib.request import urlretrieve\n",
    "import pandas as pd\n",
    "\n",
    "# RÉGLAGE IPYTHON INTERACTVESHELL\n",
    "from IPython.core.interactiveshell import InteractiveShell\n",
    "InteractiveShell.ast_node_interactivity = \"all\" \n",
    "\n",
    "# RÉGLAGES PANDAS\n",
    "pd.set_option('display.notebook_repr_html', True)\n",
    "pd.set_option('display.max_colwidth', -1)\n",
    "pd.set_option('display.max_rows', 2000)\n",
    "pd.set_option('display.max_columns', 500)\n",
    "\n",
    "# IMPORT ET LECTURE DES DONNÉES\n",
    "URL = 'https://www.semaine52.com/AuFilDuBoamp/PKL/df_d01_08_ville_2018_no_index.pkl'\n",
    "urlretrieve(URL, 'df_d01_08_ville_2018_no_index.pkl');\n",
    "df = pd.read_pickle('df_d01_08_ville_2018_no_index.pkl')\n",
    "a, _ = df.shape\n",
    "\n",
    "print('*' * 100)\n",
    "print(f\"Nombre d'annonce au BOAMP en 2018: {a} \")\n",
    "print(f\"Ci-dessous, les cinq premières lignes du tableau de résultats:\")\n",
    "\n",
    "df.head()"
   ]
  },
  {
   "cell_type": "markdown",
   "metadata": {},
   "source": [
    "____"
   ]
  },
  {
   "cell_type": "markdown",
   "metadata": {},
   "source": [
    "<strong>Toujours en confiance, à partir des 115 935 entrées de départ, vous réduisez votre recherche à Toulouse:</strong>"
   ]
  },
  {
   "cell_type": "code",
   "execution_count": 10,
   "metadata": {},
   "outputs": [
    {
     "data": {
      "text/plain": [
       "(795, 1)"
      ]
     },
     "execution_count": 10,
     "metadata": {},
     "output_type": "execute_result"
    },
    {
     "data": {
      "text/html": [
       "<div>\n",
       "<style scoped>\n",
       "    .dataframe tbody tr th:only-of-type {\n",
       "        vertical-align: middle;\n",
       "    }\n",
       "\n",
       "    .dataframe tbody tr th {\n",
       "        vertical-align: top;\n",
       "    }\n",
       "\n",
       "    .dataframe thead th {\n",
       "        text-align: right;\n",
       "    }\n",
       "</style>\n",
       "<table border=\"1\" class=\"dataframe\">\n",
       "  <thead>\n",
       "    <tr style=\"text-align: right;\">\n",
       "      <th></th>\n",
       "      <th>d01_08_ville</th>\n",
       "    </tr>\n",
       "  </thead>\n",
       "  <tbody>\n",
       "    <tr>\n",
       "      <td>0</td>\n",
       "      <td>Toulouse</td>\n",
       "    </tr>\n",
       "    <tr>\n",
       "      <td>1</td>\n",
       "      <td>Toulouse</td>\n",
       "    </tr>\n",
       "    <tr>\n",
       "      <td>2</td>\n",
       "      <td>Toulouse</td>\n",
       "    </tr>\n",
       "    <tr>\n",
       "      <td>3</td>\n",
       "      <td>Toulouse</td>\n",
       "    </tr>\n",
       "    <tr>\n",
       "      <td>4</td>\n",
       "      <td>Toulouse</td>\n",
       "    </tr>\n",
       "  </tbody>\n",
       "</table>\n",
       "</div>"
      ],
      "text/plain": [
       "  d01_08_ville\n",
       "0  Toulouse   \n",
       "1  Toulouse   \n",
       "2  Toulouse   \n",
       "3  Toulouse   \n",
       "4  Toulouse   "
      ]
     },
     "execution_count": 10,
     "metadata": {},
     "output_type": "execute_result"
    }
   ],
   "source": [
    "df_toulouse = df.loc[lambda df: df.d01_08_ville == 'Toulouse', :].reset_index(drop=True)\n",
    "df_toulouse.shape\n",
    "df_toulouse.head()"
   ]
  },
  {
   "cell_type": "markdown",
   "metadata": {},
   "source": [
    "**Vous auriez donc 795 annonces sur l'année 2018 à Toulouse en stock.**  \n",
    "**Mais il y a un problème, on le voit plus haut, c'est le fameux «cedex».**\n",
    "**On a donc perdu de l'information, et Toulouse...**"
   ]
  },
  {
   "cell_type": "markdown",
   "metadata": {},
   "source": [
    "#### **Je vous épargne ici les laborieuses étapes de nettoyage, et élargis l'angle de vue pour vous montrer ceci:**\n",
    "\n"
   ]
  },
  {
   "cell_type": "code",
   "execution_count": 11,
   "metadata": {},
   "outputs": [
    {
     "data": {
      "text/html": [
       "<div>\n",
       "<style scoped>\n",
       "    .dataframe tbody tr th:only-of-type {\n",
       "        vertical-align: middle;\n",
       "    }\n",
       "\n",
       "    .dataframe tbody tr th {\n",
       "        vertical-align: top;\n",
       "    }\n",
       "\n",
       "    .dataframe thead th {\n",
       "        text-align: right;\n",
       "    }\n",
       "</style>\n",
       "<table border=\"1\" class=\"dataframe\">\n",
       "  <thead>\n",
       "    <tr style=\"text-align: right;\">\n",
       "      <th></th>\n",
       "      <th>d01_08_ville</th>\n",
       "    </tr>\n",
       "  </thead>\n",
       "  <tbody>\n",
       "    <tr>\n",
       "      <td>0</td>\n",
       "      <td>01330 Villars les Dombes</td>\n",
       "    </tr>\n",
       "    <tr>\n",
       "      <td>1</td>\n",
       "      <td>06364, NICE CEDEX 4</td>\n",
       "    </tr>\n",
       "    <tr>\n",
       "      <td>2</td>\n",
       "      <td>10120</td>\n",
       "    </tr>\n",
       "    <tr>\n",
       "      <td>3</td>\n",
       "      <td>10400 Nogent sur seine</td>\n",
       "    </tr>\n",
       "    <tr>\n",
       "      <td>4</td>\n",
       "      <td>113Lyon Saint Exupéry Aéroport</td>\n",
       "    </tr>\n",
       "    <tr>\n",
       "      <td>5</td>\n",
       "      <td>11890 Carcassonne cedex</td>\n",
       "    </tr>\n",
       "    <tr>\n",
       "      <td>6</td>\n",
       "      <td>11890 Carcassonne cedex</td>\n",
       "    </tr>\n",
       "    <tr>\n",
       "      <td>7</td>\n",
       "      <td>12101 Millau</td>\n",
       "    </tr>\n",
       "    <tr>\n",
       "      <td>8</td>\n",
       "      <td>18000 Bourges</td>\n",
       "    </tr>\n",
       "    <tr>\n",
       "      <td>9</td>\n",
       "      <td>21033 dijon cedex</td>\n",
       "    </tr>\n",
       "  </tbody>\n",
       "</table>\n",
       "</div>"
      ],
      "text/plain": [
       "                     d01_08_ville\n",
       "0  01330 Villars les Dombes      \n",
       "1  06364, NICE CEDEX 4           \n",
       "2  10120                         \n",
       "3  10400 Nogent sur seine        \n",
       "4  113Lyon Saint Exupéry Aéroport\n",
       "5  11890 Carcassonne cedex       \n",
       "6  11890 Carcassonne cedex       \n",
       "7  12101 Millau                  \n",
       "8  18000 Bourges                 \n",
       "9  21033 dijon cedex             "
      ]
     },
     "execution_count": 11,
     "metadata": {},
     "output_type": "execute_result"
    }
   ],
   "source": [
    "df_boamp_2018_classe_par_nom_de_ville = df.sort_values(by='d01_08_ville').reset_index(drop=True)\n",
    "df_boamp_2018_classe_par_nom_de_ville.iloc[0:10]"
   ]
  },
  {
   "cell_type": "markdown",
   "metadata": {},
   "source": [
    "**Ce qu'on y voit, c'est l'implémentation par les acheteurs de la colonne «ville» quand on classe *tout* le tableau par ordre alphabétique.**  \n",
    "**Si vous lisez cet article sur JupyterLab (voir en bas de page pour plus d'infos), je vous invite à vous balader un peu plus loin dans la base, c'est parfois cocasse.**\n"
   ]
  },
  {
   "cell_type": "markdown",
   "metadata": {},
   "source": [
    "___"
   ]
  },
  {
   "cell_type": "markdown",
   "metadata": {},
   "source": [
    "#### **En attendant, par pure curiosité, voici première ville correctement entrée: c'est «ABLIS» en position ... 117.**"
   ]
  },
  {
   "cell_type": "code",
   "execution_count": 13,
   "metadata": {},
   "outputs": [
    {
     "data": {
      "text/plain": [
       "d01_08_ville    ABLIS\n",
       "Name: 117, dtype: object"
      ]
     },
     "execution_count": 13,
     "metadata": {},
     "output_type": "execute_result"
    }
   ],
   "source": [
    "df_boamp_2018_classe_par_nom_de_ville.iloc[117,:]"
   ]
  },
  {
   "cell_type": "markdown",
   "metadata": {},
   "source": [
    "___"
   ]
  },
  {
   "cell_type": "markdown",
   "metadata": {},
   "source": [
    "# **B - Conséquences**"
   ]
  },
  {
   "cell_type": "markdown",
   "metadata": {},
   "source": [
    "Tous les jeux de données sont à remanier, nettoyer, etc.  C'est comme ça.\n",
    "\n",
    "Toujours est-il que ce nettoyage est plus ou moins compliqué à faire:\n",
    "- Il faut unifier les casses;\n",
    "- Faire attention aux caractères spéciaux;\n",
    "- Se débarrasser des espaces superflus;\n",
    "- ...\n",
    "\n",
    "**Et après seulement**, on peut espérer travailler sur les données.\n",
    "\n",
    "À titre d'exemple, si vous souhaitez géocoder vos annonces à partir de cette colonne, toutes les entrées avec un cedex ou toute autre décoration sera ignorée  \n",
    "par les principaux outils à disposition et vos cartes seront incomplètes.  \n",
    "Vous pourrez vous rabattre sur les codes postaux et les adresses, mais vous y rencontrerez sans doute des problèmes similaires."
   ]
  },
  {
   "cell_type": "markdown",
   "metadata": {},
   "source": [
    "____"
   ]
  },
  {
   "cell_type": "markdown",
   "metadata": {},
   "source": [
    "# **C - Conclusion**"
   ]
  },
  {
   "cell_type": "markdown",
   "metadata": {},
   "source": [
    "L'usage d'un bon référentiel d'implémentation de la base fait en effet défaut au BOAMP.\n",
    "\n",
    "De ce fait, on l'a vu, de nombreuse données de marchés publics sont rendues (encore) plus absconses et deviennent rapidement inutilisables.  \n",
    "\n",
    "**La cible de transparence voulue et inscrite dans les textes par le législateur, voire le constituant, est de ce fait manquée.**\n",
    "\n",
    "#### **Mais gageons que tout cela va s'arranger, tant les projets autour de l'open data sont nombreux et les acteurs impliqués de plus en plus attentifs et volontaires (Etalab, Dila, ...).**"
   ]
  },
  {
   "cell_type": "markdown",
   "metadata": {},
   "source": [
    "____"
   ]
  },
  {
   "cell_type": "markdown",
   "metadata": {},
   "source": [
    "____"
   ]
  },
  {
   "cell_type": "markdown",
   "metadata": {},
   "source": [
    "### **Bonus, aller plus loin avec ces données**"
   ]
  },
  {
   "cell_type": "markdown",
   "metadata": {},
   "source": [
    "Pour m'éviter d'être assommant avec le code dans cet article, je n'ai pas poussé les manipulations du jeu de données.  \n",
    "Si vous voulez vous amuser de votre côté avec ces 156 000 entrées sans avoir à télécharger tout un environnement  \n",
    "**et si vous vous y entendez un petit peu sur JupyterLab et en Python**, voici la démarche à suivre:\n",
    "- 1 - Rendez-vous sur Binder à cette adresse : https://mybinder.org/v2/gh/Semaine52/Semaine52Lab/master?urlpath=lab/tree/CONSOLE_PYTHON_A.ipynb  \n",
    "\n",
    "NB / Le chargement peut prendre un moment, cela dépend de l'horaire.\n",
    "\n",
    "- 2 - Copiez / Collez / Exécutez le code ci-dessous dans une cellule du Notebook qui va s'ouvrir directement:"
   ]
  },
  {
   "cell_type": "code",
   "execution_count": 14,
   "metadata": {},
   "outputs": [],
   "source": [
    "# IMPORTS DES OUTILS\n",
    "from urllib.request import urlretrieve\n",
    "import pandas as pd\n",
    "\n",
    "# RÉGLAGE IPYTHON INTERACTVESHELL\n",
    "from IPython.core.interactiveshell import InteractiveShell\n",
    "InteractiveShell.ast_node_interactivity = \"all\" \n",
    "\n",
    "# RÉGLAGES PANDAS\n",
    "pd.set_option('display.notebook_repr_html', True)\n",
    "pd.set_option('display.max_colwidth', -1)\n",
    "pd.set_option('display.max_rows', 2000)\n",
    "pd.set_option('display.max_columns', 500)\n",
    "\n",
    "# IMPORT ET LECTURE DES DONNÉES\n",
    "URL = 'http://www.semaine52.com/AuFilDuBoamp/NOTEBOOKS/S52_BILLET_2019_09_20_JMF_BOAMP_VILLE_CEDEX.ipynb'\n",
    "urlretrieve(URL, 'BILLET_2019_09_20_JMF_BOAMP_BESOIN_REFERENTIEL.ipynb');"
   ]
  },
  {
   "cell_type": "markdown",
   "metadata": {},
   "source": [
    "____"
   ]
  },
  {
   "cell_type": "markdown",
   "metadata": {},
   "source": [
    "Attendez quelques secondes, et ce notebook apparaitra dans la liste des dossiers sur la gauche de votre écran, prêt à être ouvert. (cf. illustration ci-dessous)\n",
    "\n",
    "\n",
    "![Importer et exécuter ce notebook sur Binder](https://www.semaine52.com/AuFilDuBoamp/IMG/illustration_import_binder.png)"
   ]
  },
  {
   "cell_type": "markdown",
   "metadata": {},
   "source": [
    "À l'issue de vos expériences, vous pourrez naturellement faire un download de votre travail."
   ]
  },
  {
   "cell_type": "markdown",
   "metadata": {},
   "source": [
    "____"
   ]
  },
  {
   "cell_type": "markdown",
   "metadata": {},
   "source": [
    "Merci de me faire part de toutes vos suggestions d'améliorations pour ce Notebook et/ou de me transmettre vos idées de sujets à traiter pour un prochain Billet."
   ]
  },
  {
   "cell_type": "markdown",
   "metadata": {},
   "source": [
    "Jean-Marie Falvet, Aix-en-Provence le 20 septembre 2019.  \n",
    "Contact: https://twitter.com/semaine52"
   ]
  },
  {
   "cell_type": "markdown",
   "metadata": {},
   "source": [
    "____"
   ]
  }
 ],
 "metadata": {
  "kernelspec": {
   "display_name": "Python 3",
   "language": "python",
   "name": "python3"
  },
  "language_info": {
   "codemirror_mode": {
    "name": "ipython",
    "version": 3
   },
   "file_extension": ".py",
   "mimetype": "text/x-python",
   "name": "python",
   "nbconvert_exporter": "python",
   "pygments_lexer": "ipython3",
   "version": "3.7.3"
  }
 },
 "nbformat": 4,
 "nbformat_minor": 4
}
