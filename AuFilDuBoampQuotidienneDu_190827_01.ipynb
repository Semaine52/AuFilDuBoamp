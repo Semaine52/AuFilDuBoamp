{
 "cells": [
  {
   "cell_type": "markdown",
   "metadata": {},
   "source": [
    "## $$   \\textrm{ Au Fil du Boamp - La Quotidienne N°1}  \\ \\  $$\n",
    "### $$    \\textrm{Édition du mardi 27 août 2019}  \\ \\  $$\n",
    "# $$ \\infty\\   \\textrm{ Carte interactive}  \\ \\ \\infty $$\n",
    "## $$   \\textrm{ Les marchés publics publiés le lundi 26 août 2019 au BOAMP (sélection)}  \\ \\  $$"
   ]
  },
  {
   "cell_type": "markdown",
   "metadata": {},
   "source": [
    "[![AU SOMMAIRE D'AU FIL DU BOAMP](https://img.shields.io/badge/►%20SOMMAIRE-7f1d92.svg)](https://www.semaine52.com/AuFilDuBoamp/AuFilDuBoampSommaire.html)\n",
    "[![AU SOMMAIRE D'AU FIL DU BOAMP](https://img.shields.io/badge/►%20SOMMAIRE-7f1d92.svg)](https://www.semaine52.com/AuFilDuBoamp/AuFilDuBoampSommaire.html)"
   ]
  },
  {
   "cell_type": "markdown",
   "metadata": {},
   "source": [
    "Mode d'emploi:\n",
    "- Passez la carte en plein écran en cliquant sur le carré à traits discontinus.\n",
    "- Survolez une étiquette pour prendre connaissance des infos clés.\n",
    "- Cliquez dessus pour en savoir plus.\n",
    "- Un lien direct vers la page correspondante à chaque annonce sur Boamp.fr est aussi fourni."
   ]
  },
  {
   "cell_type": "code",
   "execution_count": 7,
   "metadata": {},
   "outputs": [
    {
     "data": {
      "text/html": [
       "<center><iframe src=\"https://www.semaine52.com/AuFilDuBoamp/AuFilDuBoampCarteParutionsDu_190826_01.html\" frameborder=\"1\" style=\"border:1\" width=\"800\" height=\"400\" allowfullscreen=\"true\" mozallowfullscreen=\"true\" webkitallowfullscreen=\"true\">Carte</iframe></center>\n"
      ],
      "text/plain": [
       "<IPython.core.display.HTML object>"
      ]
     },
     "metadata": {},
     "output_type": "display_data"
    }
   ],
   "source": [
    "%%html\n",
    "<center><iframe src=\"https://www.semaine52.com/AuFilDuBoamp/AuFilDuBoampCarteParutionsDu_190826_01.html\" frameborder=\"1\" style=\"border:1\" width=\"800\" height=\"400\" allowfullscreen=\"true\" mozallowfullscreen=\"true\" webkitallowfullscreen=\"true\">Carte</iframe></center>"
   ]
  },
  {
   "cell_type": "markdown",
   "metadata": {},
   "source": [
    "<b> Note</b> : si le mode plein écran n'est pas possible avec votre navigateur voici un</b>  [lien diret](https://www.semaine52.com/notebooks/boamp/boamp_quotidienne_2019_08_27.html) vers la carte."
   ]
  },
  {
   "cell_type": "markdown",
   "metadata": {},
   "source": [
    "\n",
    "\n",
    "Informations complémentaires :\n",
    "- Source des données : [Dila / DataGouv.fr / BOAMP](https://www.data.gouv.fr/fr/datasets/boamp/) \n",
    "- Licence originale : [Licence Ouverte - Open Licence](https://www.etalab.gouv.fr/wp-content/uploads/2014/05/Licence_Ouverte.pdf)\n",
    "- Couverture temporelle : 26/08/2019\n",
    "- Fréquence : quotidienne\n",
    "- Date de création : 27/08/19\n",
    "- Date de dernière modification : 27/08/19\n",
    "- Dernière mise à jour de la ressource : 27/08/19.\n",
    "- Granularité de la couverture temporelle : quotidienne.\n",
    "- Auteur : J.-M.F. pour [Semaine52.com](https://www.Semaine52.com), [@Semaine52](https://twitter.com/semaine52) et [@AuFilDuBoamp](https://twitter.com/AuFilDuBoamp)\n",
    "- Notebook réalisé sur [JupyterLab](https://jupyterlab.readthedocs.io/en/stable/) avec [Python](https://www.python.org/)\n",
    "- Avec le soutien de la [Maison Numérique](http://maison-numerique.net/) d'Aix-en-Provence.\n"
   ]
  },
  {
   "cell_type": "markdown",
   "metadata": {},
   "source": [
    "----"
   ]
  }
 ],
 "metadata": {
  "kernelspec": {
   "display_name": "Python 3",
   "language": "python",
   "name": "python3"
  },
  "language_info": {
   "codemirror_mode": {
    "name": "ipython",
    "version": 3
   },
   "file_extension": ".py",
   "mimetype": "text/x-python",
   "name": "python",
   "nbconvert_exporter": "python",
   "pygments_lexer": "ipython3",
   "version": "3.7.3"
  }
 },
 "nbformat": 4,
 "nbformat_minor": 4
}
