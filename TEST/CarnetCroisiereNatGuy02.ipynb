{
 "cells": [
  {
   "cell_type": "code",
   "execution_count": 10,
   "metadata": {
    "hide_input": true,
    "slideshow": {
     "slide_type": "skip"
    }
   },
   "outputs": [],
   "source": [
    "#  -*- coding: utf8 -*-"
   ]
  },
  {
   "cell_type": "code",
   "execution_count": 11,
   "metadata": {
    "hide_input": true
   },
   "outputs": [],
   "source": [
    "# Permettre plusieurs sorties par cellule:\n",
    "from IPython.core.interactiveshell import InteractiveShell\n",
    "InteractiveShell.ast_node_interactivity = \"all\" "
   ]
  },
  {
   "cell_type": "code",
   "execution_count": 12,
   "metadata": {
    "hide_input": true,
    "slideshow": {
     "slide_type": "skip"
    }
   },
   "outputs": [],
   "source": [
    "from IPython.display import IFrame"
   ]
  },
  {
   "cell_type": "markdown",
   "metadata": {},
   "source": [
    "<div id=\"dernieres-nouvelles\">...</div>"
   ]
  },
  {
   "cell_type": "markdown",
   "metadata": {},
   "source": [
    "# **La Revue d'Actualités  de Nat & Guy**"
   ]
  },
  {
   "cell_type": "markdown",
   "metadata": {},
   "source": [
    "## **Liens utiles // 2020:**\n",
    "\n",
    "test CarnetCroisiereNatGuyF [I'm an inline-style link](https://anaconda.org/semaine52/carnetcroisierenatguyf)\n"
   ]
  },
  {
   "cell_type": "markdown",
   "metadata": {
    "slideshow": {
     "slide_type": "slide"
    }
   },
   "source": [
    "- **Poster un message à JM:**\n",
    "    - **https://www.semaine52.com/jean-marie-falvet** \n",
    "    \n",
    "    \n",
    "- **Voir la page de l'hérault sur Semaine52.com :**  \n",
    "    - **https://www.semaine52.com/34-herault-les-derniers-tweets-des-institutions-locales**  \n",
    "    \n",
    "    \n",
    "- **Semaine52Lab**\n",
    "     - https://mybinder.org/v2/gh/Semaine52/Semaine52Lab-Marches-Publics-et-Data-Mining/master?urlpath=lab/\n",
    "    \n"
   ]
  },
  {
   "cell_type": "markdown",
   "metadata": {},
   "source": []
  },
  {
   "cell_type": "markdown",
   "metadata": {},
   "source": [
    "# **Les Webcams**"
   ]
  },
  {
   "cell_type": "markdown",
   "metadata": {},
   "source": [
    "## **Balaruc Plage**"
   ]
  },
  {
   "cell_type": "markdown",
   "metadata": {},
   "source": [
    "- **https://www.viewsurf.com/univers/surf/vue/16014-france-languedoc-roussillon-balaruc-les-bains-live**\n",
    " \n",
    " "
   ]
  },
  {
   "cell_type": "markdown",
   "metadata": {},
   "source": [
    "#  **Hérault : les institutions et la presse locale**\n"
   ]
  },
  {
   "cell_type": "markdown",
   "metadata": {
    "slideshow": {
     "slide_type": "slide"
    }
   },
   "source": [
    "##   **Les derniers tweets**"
   ]
  },
  {
   "cell_type": "code",
   "execution_count": null,
   "metadata": {
    "slideshow": {
     "slide_type": "slide"
    }
   },
   "outputs": [],
   "source": [
    "%%HTML\n",
    "\n",
    "<center><a class=\"twitter-timeline\" data-chrome=\"\"   data-link-color=\"#ffcc00\" data-theme=\"dark\" \n",
    " height=\"600\" width=\"600\" href=\"https://twitter.com/Semaine52/lists/nat-guy-infos\">Un Widget de Liste Twitter par Semaine52.com</a> <script async src=\"//platform.twitter.com/widgets.js\" charset=\"utf-8\"></script></center>"
   ]
  },
  {
   "cell_type": "markdown",
   "metadata": {
    "slideshow": {
     "slide_type": "slide"
    }
   },
   "source": [
    "##  **La liste des liens Web et Twitter**\n",
    "\n",
    "\n",
    "| Institutions locale | Lien vers le SITE WEB | LIEN vers le COMPTE TWITTER |\n",
    "|:---|:---|:---|\n",
    "|Mairie de Balaruc-les-Bains| http://www.ville-balaruc-les-bains.com/ | Non |\n",
    "|Office de tourisme de Balaruc-les-Bains| http://www.ville-balaruc-les-bains.com/| Non |\n",
    "|Sète Agglopôle Méditerranée| http://www.agglopole.fr/| https://twitter.com/Sete_agglo_med |\n",
    "|Office de tourisme de Sète| https://www.tourisme-sete.com/|https://twitter.com/TourismeSete |    \n",
    "|Conseil départemental de l'Hérault'|http://www.herault.fr/le-conseil-general/contact/conseil-general-de-l-herault| https://twitter.com/Heraultinfos | \n",
    "|Préfecture de l'Hérault|http://www.herault.gouv.fr|https://twitter.com/Prefet34| \n",
    "|Presse - Thau Infos|http://thau-infos.fr/| https://twitter.com/ThauInfos |\n",
    "    \n",
    "    \n",
    "    \n",
    "    \n",
    "    "
   ]
  },
  {
   "cell_type": "markdown",
   "metadata": {},
   "source": [
    "----"
   ]
  },
  {
   "cell_type": "markdown",
   "metadata": {
    "slideshow": {
     "slide_type": "slide"
    }
   },
   "source": [
    "\n",
    "#  **La presse hebdomadaire généraliste française**"
   ]
  },
  {
   "cell_type": "markdown",
   "metadata": {},
   "source": [
    "##    **Les derniers tweets de la presse hebdomadaire généraliste**\n",
    "\n",
    "NB /  Les liens en jaune envoient vers l'article correspondant sur le site internet de l'hebdo dont le nom apparait dans un cercle en haut de chaque tweet.\n",
    "\n",
    "Si le lien en jaune est précédé d'un « # » , il renvoie vers les discussions qui ont trait au sujet mentionné."
   ]
  },
  {
   "cell_type": "code",
   "execution_count": null,
   "metadata": {
    "slideshow": {
     "slide_type": "slide"
    }
   },
   "outputs": [],
   "source": [
    "%%HTML\n",
    "\n",
    "<center><a class=\"twitter-timeline\" data-chrome=\"\"   data-link-color=\"#ffcc00\" data-theme=\"dark\" \n",
    " height=\"600\" width=\"600\" href=\"https://twitter.com/Semaine52/lists/presse-hebdo-g-n-raliste\">Un Widget de Liste Twitter par Semaine52.com</a> <script async src=\"//platform.twitter.com/widgets.js\" charset=\"utf-8\"></script></center>"
   ]
  },
  {
   "cell_type": "markdown",
   "metadata": {
    "slideshow": {
     "slide_type": "slide"
    }
   },
   "source": [
    "##   **La Liste des liens Web et Twitter de la presse hebdomadaire généraliste**"
   ]
  },
  {
   "cell_type": "markdown",
   "metadata": {},
   "source": [
    "\n",
    "| TITRE | LIEN vers le SITE WEB | LIEN vers le COMPTE TWITTER |\n",
    "|:---|:---|:---|\n",
    "|Canard enchainé (Le)| https://lecanardenchaine.fr | https://twitter.com/#!/canardenchaine |\n",
    "|Charlie Hebdo| https://charliehebdo.fr | https://twitter.com/#!/charlie_hebdo_ |\n",
    "|Courrier international| https://courrierinternational.com | https://twitter.com/#!/courrierinter |\n",
    "|Express (L')| https://lexpress.fr | https://twitter.com/#!/lexpress |\n",
    "|Jeune Afrique| https://jeuneafrique.com | https://twitter.com/#!/jeune_afrique |\n",
    "|Journal du dimanche (Le)| https://lejdd.fr | https://twitter.com/#!/lejdd |\n",
    "|Marianne| https://marianne.net | https://twitter.com/#!/MarianneleMag |\n",
    "|Obs (l')| https://tempsreel.nouvelobs.com/ |https://twitter.com/#!/LObs|\n",
    "|Point (Le)| http://www.lepoint.fr/| https://twitter.com/#!/lepoint |\n",
    "|Valeurs actuelles| https://www.valeursactuelles.com/ | https://twitter.com/#!/valeurs |\n"
   ]
  },
  {
   "cell_type": "markdown",
   "metadata": {},
   "source": [
    "----"
   ]
  },
  {
   "cell_type": "markdown",
   "metadata": {
    "slideshow": {
     "slide_type": "slide"
    }
   },
   "source": [
    "----\n",
    "#  **La presse quotidienne nationale**\n",
    "##    **Les derniers tweets de la presse quotidienne nationale**"
   ]
  },
  {
   "cell_type": "code",
   "execution_count": null,
   "metadata": {
    "slideshow": {
     "slide_type": "slide"
    }
   },
   "outputs": [],
   "source": [
    "%%HTML\n",
    "\n",
    "<center><a class=\"twitter-timeline\" data-chrome=\"\"   data-link-color=\"#ffcc00\" data-theme=\"dark\" \n",
    " height=\"600\" width=\"600\" href=\"https://twitter.com/Semaine52/lists/presse-quotidienne-nat1\">Un Widget de Liste Twitter par Semaine52.com</a> <script async src=\"//platform.twitter.com/widgets.js\" charset=\"utf-8\"></script></center>"
   ]
  },
  {
   "cell_type": "markdown",
   "metadata": {
    "slideshow": {
     "slide_type": "slide"
    }
   },
   "source": [
    "##   **La Liste des liens Web et Twitter de la presse quotidienne nationale**"
   ]
  },
  {
   "cell_type": "markdown",
   "metadata": {},
   "source": [
    "\n",
    "| TITRE | LIEN vers le SITE WEB | LIEN vers le COMPTE TWITTER |\n",
    "|:---|:---|:---|\n",
    "|Croix (La)|https://www.la-croix.com | https://twitter.com/#!/lacroix |\n",
    "|Échos (Les)|https://www.lesechos.fr | https://twitter.com/#!/lesechos |\n",
    "|Figaro (Le)|https://www.lefigaro.fr | https://twitter.com/#!/le_figaro |\n",
    "|Équipe (L')|https://www.lequipe.fr | https://twitter.com/#!/lequipe |\n",
    "|Humanité (l')|https://www.humanite.fr | https://twitter.com/#!/humanite_fr |\n",
    "|Opinion (l')|https://www.lopinion.fr | https://twitter.com/#!/lopinion_fr |\n",
    "|Libération|https://www.liberation.fr | https://twitter.com/#!/libe |\n",
    "|Monde (Le)|https://www.lemonde.fr | https://twitter.com/#!/lemondefr |\n",
    "|Parisien (Le) - Aujourd'hui en France | https://www.leparisien.fr | http://twitter.com/#!/le_parisien]|\n",
    "|Tribune (La)|https://www.latribune.fr | https://twitter.com/#!/latribune] |\n",
    "\n"
   ]
  },
  {
   "cell_type": "markdown",
   "metadata": {
    "slideshow": {
     "slide_type": "slide"
    }
   },
   "source": [
    "# **Semaine52 en direct**\n",
    "## **Astuce / Normalement, si on se place sur un lien et qu'on clique sur la molette de la souris, le lien s'ouvre dans un nouvel onglet.**\n",
    "\n",
    "magique..."
   ]
  },
  {
   "cell_type": "code",
   "execution_count": null,
   "metadata": {
    "slideshow": {
     "slide_type": "skip"
    }
   },
   "outputs": [],
   "source": [
    "%%html\n",
    "<center><a class=\"twitter-timeline\" data-chrome=\"\"   data-link-color=\"#ffcc00\" data-theme=\"dark\"  height=\"550px\" width=\"550px\" href=\"https://twitter.com/semaine52\"></a> <script async src=\"//platform.twitter.com/widgets.js\" charset=\"utf-8\"></script></center>"
   ]
  },
  {
   "cell_type": "markdown",
   "metadata": {},
   "source": [
    "-----------------"
   ]
  },
  {
   "cell_type": "markdown",
   "metadata": {
    "slideshow": {
     "slide_type": "slide"
    }
   },
   "source": [
    "# **Focus sur le journal « L'Équipe »**\n",
    "\n",
    "##   **Les derniers tweets de L'Équipe**"
   ]
  },
  {
   "cell_type": "code",
   "execution_count": null,
   "metadata": {
    "scrolled": true,
    "slideshow": {
     "slide_type": "slide"
    }
   },
   "outputs": [],
   "source": [
    "%%html\n",
    "<center><a class=\"twitter-timeline\" data-chrome=\"\"  data-link-color=\"#ffcc00\" data-theme=\"dark\"  height=\"550px\" width=\"550px\" href=\"https://twitter.com/lequipe\"></a> <script async src=\"//platform.twitter.com/widgets.js\" charset=\"utf-8\"></script></center>"
   ]
  },
  {
   "cell_type": "markdown",
   "metadata": {},
   "source": [
    "##  **Les liens Web et Twitter de L'Équipe**\n",
    "\n",
    "| TITRE | LIEN vers le SITE WEB | LIEN vers le COMPTE TWITTER |\n",
    "|:---|:---|:---|\n",
    "|Équipe (L')|https://www.lequipe.fr | https://twitter.com/#!/lequipe |"
   ]
  },
  {
   "cell_type": "markdown",
   "metadata": {},
   "source": [
    "Contacter le rédacteur -> https://www.semaine52.com/jean-marie-falvet"
   ]
  },
  {
   "cell_type": "markdown",
   "metadata": {},
   "source": [
    "<a href=\"#dernieres-nouvelles\">Les dernières nouvelles</a>"
   ]
  },
  {
   "cell_type": "code",
   "execution_count": null,
   "metadata": {},
   "outputs": [],
   "source": []
  }
 ],
 "metadata": {
  "hide_input": false,
  "kernelspec": {
   "display_name": "Python 3",
   "language": "python",
   "name": "python3"
  },
  "language_info": {
   "codemirror_mode": {
    "name": "ipython",
    "version": 3
   },
   "file_extension": ".py",
   "mimetype": "text/x-python",
   "name": "python",
   "nbconvert_exporter": "python",
   "pygments_lexer": "ipython3",
   "version": "3.7.6"
  },
  "nbTranslate": {
   "displayLangs": [
    "fr"
   ],
   "hotkey": "alt-t",
   "langInMainMenu": true,
   "sourceLang": "en",
   "targetLang": "fr",
   "useGoogleTranslate": true
  },
  "toc": {
   "base_numbering": 1,
   "nav_menu": {},
   "number_sections": false,
   "sideBar": true,
   "skip_h1_title": false,
   "title_cell": "Table des matières",
   "title_sidebar": "Au programme",
   "toc_cell": false,
   "toc_position": {},
   "toc_section_display": true,
   "toc_window_display": false
  }
 },
 "nbformat": 4,
 "nbformat_minor": 4
}
